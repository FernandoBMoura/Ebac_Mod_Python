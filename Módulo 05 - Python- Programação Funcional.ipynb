{
  "cells": [
    {
      "cell_type": "markdown",
      "metadata": {
        "id": "KJqp9AANOCtf"
      },
      "source": [
        "<img src=\"https://raw.githubusercontent.com/andre-marcos-perez/ebac-course-utils/main/media/logo/newebac_logo_black_half.png\" alt=\"ebac-logo\">\n",
        "\n",
        "---\n",
        "\n",
        "# **Módulo** | Python: Programação Funcional\n",
        "Caderno de **Exercícios**<br>\n",
        "Professor [André Perez](https://www.linkedin.com/in/andremarcosperez/)\n",
        "\n",
        "---"
      ]
    },
    {
      "cell_type": "markdown",
      "metadata": {
        "id": "d9jDtUbDOE1-"
      },
      "source": [
        "# **Tópicos**\n",
        "\n",
        "<ol type=\"1\">\n",
        "  <li>Função lambda;</li>\n",
        "  <li>Função map;</li>\n",
        "  <li>Função filter;</li>\n",
        "  <li>Função reduce.</li>\n",
        "</ol>"
      ]
    },
    {
      "cell_type": "markdown",
      "metadata": {
        "id": "SmoHgt-lwkpD"
      },
      "source": [
        "---"
      ]
    },
    {
      "cell_type": "markdown",
      "metadata": {
        "id": "GABI6OW8OfQ2"
      },
      "source": [
        "# **Exercícios**"
      ]
    },
    {
      "cell_type": "markdown",
      "metadata": {
        "id": "muD1vxozykSC"
      },
      "source": [
        "## 0\\. Preparação do ambiente"
      ]
    },
    {
      "cell_type": "markdown",
      "metadata": {
        "id": "ahrFfCuBxJKs"
      },
      "source": [
        "Neste exercício vamos trabalhar com o arquivo csv com dados de crédito, definido abaixo. Execute cada uma das células de código para escrever os arquivos na sua máquina virtual."
      ]
    },
    {
      "cell_type": "code",
      "execution_count": 1,
      "metadata": {
        "id": "Kjt3HvFX7C3A",
        "colab": {
          "base_uri": "https://localhost:8080/"
        },
        "outputId": "9781b59e-9f6d-4bae-e301-c77211c7fcce"
      },
      "outputs": [
        {
          "output_type": "stream",
          "name": "stdout",
          "text": [
            "Writing credito.csv\n"
          ]
        }
      ],
      "source": [
        "%%writefile credito.csv\n",
        "id_vendedor,valor_emprestimos,quantidade_emprestimos,data\n",
        "104271,448.0,1,20161208\n",
        "21476,826.7,3,20161208\n",
        "87440,313.6,3,20161208\n",
        "15980,-8008.0,6,20161208\n",
        "215906,2212.0,5,20161208\n",
        "33696,2771.3,2,20161208\n",
        "33893,2240.0,3,20161208\n",
        "214946,-4151.0,18,20161208\n",
        "123974,2021.95,2,20161208\n",
        "225870,4039.0,2,20161208"
      ]
    },
    {
      "cell_type": "markdown",
      "metadata": {
        "id": "tnhM9v2X7yGS"
      },
      "source": [
        "Vamos ler o conteúdo do arquivo em uma lista onde cada elemento é um dicionário representando as linhas do arquivo."
      ]
    },
    {
      "cell_type": "code",
      "execution_count": 2,
      "metadata": {
        "id": "T00Y_WIh7uPU"
      },
      "outputs": [],
      "source": [
        "emprestimos = []\n",
        "with open(file='./credito.csv', mode='r', encoding='utf8') as fp:\n",
        "  fp.readline() # cabeçalho\n",
        "  linha = fp.readline()\n",
        "  while linha:\n",
        "    linha_emprestimo = {}\n",
        "    linha_elementos = linha.strip().split(sep=',')\n",
        "    linha_emprestimo['id_vendedor'] = linha_elementos[0]\n",
        "    linha_emprestimo['valor_emprestimos'] = linha_elementos[1]\n",
        "    linha_emprestimo['quantidade_emprestimos'] = linha_elementos[2]\n",
        "    linha_emprestimo['data'] = linha_elementos[3]\n",
        "    emprestimos.append(linha_emprestimo)\n",
        "    linha = fp.readline()"
      ]
    },
    {
      "cell_type": "code",
      "execution_count": 15,
      "metadata": {
        "id": "Bp0ZgdTM84bw",
        "colab": {
          "base_uri": "https://localhost:8080/"
        },
        "outputId": "c566a701-44f1-4af6-fb4d-217b1be69a7a"
      },
      "outputs": [
        {
          "output_type": "stream",
          "name": "stdout",
          "text": [
            "{'id_vendedor': '104271', 'valor_emprestimos': '448.0', 'quantidade_emprestimos': '1', 'data': '20161208'}\n",
            "{'id_vendedor': '21476', 'valor_emprestimos': '826.7', 'quantidade_emprestimos': '3', 'data': '20161208'}\n",
            "{'id_vendedor': '87440', 'valor_emprestimos': '313.6', 'quantidade_emprestimos': '3', 'data': '20161208'}\n",
            "{'id_vendedor': '15980', 'valor_emprestimos': '-8008.0', 'quantidade_emprestimos': '6', 'data': '20161208'}\n",
            "{'id_vendedor': '215906', 'valor_emprestimos': '2212.0', 'quantidade_emprestimos': '5', 'data': '20161208'}\n",
            "{'id_vendedor': '33696', 'valor_emprestimos': '2771.3', 'quantidade_emprestimos': '2', 'data': '20161208'}\n",
            "{'id_vendedor': '33893', 'valor_emprestimos': '2240.0', 'quantidade_emprestimos': '3', 'data': '20161208'}\n",
            "{'id_vendedor': '214946', 'valor_emprestimos': '-4151.0', 'quantidade_emprestimos': '18', 'data': '20161208'}\n",
            "{'id_vendedor': '123974', 'valor_emprestimos': '2021.95', 'quantidade_emprestimos': '2', 'data': '20161208'}\n",
            "{'id_vendedor': '225870', 'valor_emprestimos': '4039.0', 'quantidade_emprestimos': '2', 'data': '20161208'}\n"
          ]
        }
      ],
      "source": [
        "for emprestimo in emprestimos:\n",
        "  print(emprestimo)"
      ]
    },
    {
      "cell_type": "markdown",
      "metadata": {
        "id": "KI9zQRT2xa7m"
      },
      "source": [
        "## 1\\. Função `map`\n",
        "\n"
      ]
    },
    {
      "cell_type": "markdown",
      "metadata": {
        "id": "U63MjM7H7o1Y"
      },
      "source": [
        "Aplique a função map na lista de `emprestimos` para extrair os valores da chave `valor_emprestimos` na lista `valor_emprestimos_lista`. Faça também a conversão de `str` para `float`."
      ]
    },
    {
      "cell_type": "code",
      "source": [
        "valor_emprestimos_lista = list(map(lambda emprestimo: float(emprestimo['valor_emprestimos']), emprestimos))"
      ],
      "metadata": {
        "id": "aqWePnWUYWpr"
      },
      "execution_count": 16,
      "outputs": []
    },
    {
      "cell_type": "code",
      "source": [
        "print(valor_emprestimos_lista)"
      ],
      "metadata": {
        "colab": {
          "base_uri": "https://localhost:8080/"
        },
        "id": "HqBos6isa92q",
        "outputId": "7042a8c5-b687-41d0-e6c1-6d4ab4d34eb2"
      },
      "execution_count": 17,
      "outputs": [
        {
          "output_type": "stream",
          "name": "stdout",
          "text": [
            "[448.0, 826.7, 313.6, -8008.0, 2212.0, 2771.3, 2240.0, -4151.0, 2021.95, 4039.0]\n"
          ]
        }
      ]
    },
    {
      "cell_type": "code",
      "source": [
        "valor_emprestimos_lista_2 = []\n",
        "\n",
        "for emprestimo in emprestimos:\n",
        "  valor_emprestimos_lista_2.append(float(emprestimo['valor_emprestimos']))\n",
        "\n",
        "print(valor_emprestimos_lista_2)"
      ],
      "metadata": {
        "colab": {
          "base_uri": "https://localhost:8080/"
        },
        "id": "11zFFMSQbJsb",
        "outputId": "fd91772c-128d-46bf-c96d-4e06ea544402"
      },
      "execution_count": 18,
      "outputs": [
        {
          "output_type": "stream",
          "name": "stdout",
          "text": [
            "[448.0, 826.7, 313.6, -8008.0, 2212.0, 2771.3, 2240.0, -4151.0, 2021.95, 4039.0]\n"
          ]
        }
      ]
    },
    {
      "cell_type": "code",
      "execution_count": 19,
      "metadata": {
        "id": "MQUvYdzJ9ndC",
        "colab": {
          "base_uri": "https://localhost:8080/"
        },
        "outputId": "75ae37b0-1ecf-456b-f63f-215f6daf4747"
      },
      "outputs": [
        {
          "output_type": "stream",
          "name": "stdout",
          "text": [
            "[448.0, 826.7, 313.6, -8008.0, 2212.0, 2771.3, 2240.0, -4151.0, 2021.95, 4039.0]\n"
          ]
        }
      ],
      "source": [
        "print(valor_emprestimos_lista) # [448.0, 826.7, ..., 4039.0]"
      ]
    },
    {
      "cell_type": "markdown",
      "metadata": {
        "id": "zMN1Q3jdwoJm"
      },
      "source": [
        "---"
      ]
    },
    {
      "cell_type": "markdown",
      "metadata": {
        "id": "WKHvMtFX_JKH"
      },
      "source": [
        "## 2\\. Função `filter`\n",
        "\n"
      ]
    },
    {
      "cell_type": "markdown",
      "metadata": {
        "id": "6V34N3Lf_gUM"
      },
      "source": [
        "Aplique a função filter na lista de `valor_emprestimos_lista` para filtrar apenas os valores maiores que zero (os valores negativas são erros na base de dados). Salve os valores na lista `valor_emprestimos_lista_filtrada`."
      ]
    },
    {
      "cell_type": "code",
      "execution_count": 20,
      "metadata": {
        "id": "3y7Vmm0yACuk"
      },
      "outputs": [],
      "source": [
        "valor_emprestimos_lista_filtrada = list(filter(lambda valor: valor > 0, valor_emprestimos_lista))"
      ]
    },
    {
      "cell_type": "code",
      "execution_count": 21,
      "metadata": {
        "id": "socxMS6NADsM",
        "colab": {
          "base_uri": "https://localhost:8080/"
        },
        "outputId": "47fb53b4-b1a6-4bca-b8a3-94984cfe7ffb"
      },
      "outputs": [
        {
          "output_type": "stream",
          "name": "stdout",
          "text": [
            "[448.0, 826.7, 313.6, 2212.0, 2771.3, 2240.0, 2021.95, 4039.0]\n"
          ]
        }
      ],
      "source": [
        "print(valor_emprestimos_lista_filtrada) # [448.0, 826.7, ..., 4039.0]"
      ]
    },
    {
      "cell_type": "code",
      "source": [
        "valor_emprestimos_lista_filtrada_2 = []\n",
        "\n",
        "for valor in valor_emprestimos_lista_2:\n",
        "  if valor > 0:\n",
        "    valor_emprestimos_lista_filtrada_2.append(valor)\n",
        "\n",
        "print(valor_emprestimos_lista_filtrada_2)"
      ],
      "metadata": {
        "colab": {
          "base_uri": "https://localhost:8080/"
        },
        "id": "OoLqxqgZbUPT",
        "outputId": "09370e05-856f-48f4-ddcd-cfd973c0d604"
      },
      "execution_count": 22,
      "outputs": [
        {
          "output_type": "stream",
          "name": "stdout",
          "text": [
            "[448.0, 826.7, 313.6, 2212.0, 2771.3, 2240.0, 2021.95, 4039.0]\n"
          ]
        }
      ]
    },
    {
      "cell_type": "markdown",
      "metadata": {
        "id": "4yqCAVCo_Yp3"
      },
      "source": [
        "---"
      ]
    },
    {
      "cell_type": "markdown",
      "metadata": {
        "id": "s4TzfRxC_Yp4"
      },
      "source": [
        "## 3\\. Função `reduce`\n",
        "\n"
      ]
    },
    {
      "cell_type": "markdown",
      "metadata": {
        "id": "RwV4V7gDAWfJ"
      },
      "source": [
        "Com a nossa lista de valores de emprestimo pronta, vamos extrair algumas métricas."
      ]
    },
    {
      "cell_type": "markdown",
      "metadata": {
        "id": "zjXA6H0LAf1_"
      },
      "source": [
        "### 3\\.1\\. Função `reduce` para extrair a **soma**"
      ]
    },
    {
      "cell_type": "markdown",
      "metadata": {
        "id": "u1kxPpkUArKw"
      },
      "source": [
        "Aplique a função reduce para somar os elementos da lista `valor_emprestimos_lista_filtrada` na variavel `soma_valor_emprestimos`."
      ]
    },
    {
      "cell_type": "code",
      "execution_count": 35,
      "metadata": {
        "id": "ptAFEVpMAr6_"
      },
      "outputs": [],
      "source": [
        "from functools import reduce\n",
        "\n",
        "media_valor_emprestimos = reduce(lambda x, y: x + y, valor_emprestimos_lista_filtrada) / len(valor_emprestimos_lista_filtrada)\n"
      ]
    },
    {
      "cell_type": "code",
      "execution_count": 24,
      "metadata": {
        "id": "fPosL2LZBDxz",
        "colab": {
          "base_uri": "https://localhost:8080/"
        },
        "outputId": "697b0a9e-455e-4cae-e11f-3dc0de0c6342"
      },
      "outputs": [
        {
          "output_type": "stream",
          "name": "stdout",
          "text": [
            "14872.550000000001\n"
          ]
        }
      ],
      "source": [
        "print(soma_valor_emprestimos) # 14872.550000000001"
      ]
    },
    {
      "cell_type": "code",
      "source": [
        "soma_valor_emprestimos_2 = 0\n",
        "\n",
        "for valor in valor_emprestimos_lista_filtrada_2:\n",
        "  soma_valor_emprestimos_2 += valor\n",
        "\n",
        "print(soma_valor_emprestimos_2)"
      ],
      "metadata": {
        "colab": {
          "base_uri": "https://localhost:8080/"
        },
        "id": "Iv5ZdENcbhrM",
        "outputId": "c62d25cf-e064-4f01-ea27-94acc7d7f568"
      },
      "execution_count": 36,
      "outputs": [
        {
          "output_type": "stream",
          "name": "stdout",
          "text": [
            "14872.550000000001\n"
          ]
        }
      ]
    },
    {
      "cell_type": "markdown",
      "metadata": {
        "id": "v8h9TkYqBLPn"
      },
      "source": [
        "### 3\\.2\\. Função `reduce` para extrair a **media aritimética**"
      ]
    },
    {
      "cell_type": "markdown",
      "metadata": {
        "id": "VXsNI53NBLPo"
      },
      "source": [
        "Aplique a função reduce para extrair a média aritimética (mais informações [aqui](https://pt.wikipedia.org/wiki/M%C3%A9dia#M%C3%A9dia_aritm%C3%A9tica)) dos elementos da lista `valor_emprestimos_lista_filtrada` na variavel `media_valor_emprestimos`.\n",
        "\n",
        "Dica: Para calcular o tamanho da lista, isto é a quantidade de elementos, utilize a função len(), dentro do argumento da função coloque a lista `valor_emprestimos_lista_filtrada`."
      ]
    },
    {
      "cell_type": "code",
      "execution_count": 37,
      "metadata": {
        "id": "qbWv8a2GBLPp"
      },
      "outputs": [],
      "source": [
        "from functools import reduce\n",
        "\n",
        "media_valor_emprestimos = reduce(lambda x, y: x + y, valor_emprestimos_lista_filtrada) / len(valor_emprestimos_lista_filtrada)\n"
      ]
    },
    {
      "cell_type": "code",
      "execution_count": 38,
      "metadata": {
        "id": "V-hh5hCKBLPr",
        "colab": {
          "base_uri": "https://localhost:8080/"
        },
        "outputId": "6f3f986f-4e4e-4418-bb62-6cdeefa93089"
      },
      "outputs": [
        {
          "output_type": "stream",
          "name": "stdout",
          "text": [
            "1859.0687500000001\n"
          ]
        }
      ],
      "source": [
        "print(media_valor_emprestimos) # 1859.0687500000001"
      ]
    },
    {
      "cell_type": "code",
      "source": [
        "soma_valor_emprestimos_lista_filtrada_2 = 0\n",
        "for valor in valor_emprestimos_lista_filtrada_2:\n",
        "  soma_valor_emprestimos_lista_filtrada_2 += valor\n",
        "\n",
        "media_valor_emprestimos_2 = soma_valor_emprestimos_lista_filtrada_2 / len(valor_emprestimos_lista_filtrada_2)\n",
        "\n",
        "print(media_valor_emprestimos_2)"
      ],
      "metadata": {
        "colab": {
          "base_uri": "https://localhost:8080/"
        },
        "id": "sIKkmNnbbrRL",
        "outputId": "e8ed569e-7640-4c97-c360-688fdf4dd15a"
      },
      "execution_count": 39,
      "outputs": [
        {
          "output_type": "stream",
          "name": "stdout",
          "text": [
            "1859.0687500000001\n"
          ]
        }
      ]
    },
    {
      "cell_type": "markdown",
      "metadata": {
        "id": "rCwM3DcJBeyB"
      },
      "source": [
        "### 3\\.3\\. (**Desafio**) Função `reduce` para extrair o **desvio padrão amostral**"
      ]
    },
    {
      "cell_type": "markdown",
      "metadata": {
        "id": "jw3azoT_BeyC"
      },
      "source": [
        "Aplique a função reduce para extrair a média aritimética (mais informações [aqui](https://pt.wikipedia.org/wiki/M%C3%A9dia#M%C3%A9dia_aritm%C3%A9tica)) dos elementos da lista `valor_emprestimos_lista_filtrada` na variavel `desvio_padrao_valor_emprestimos`.\n",
        "\n"
      ]
    },
    {
      "cell_type": "code",
      "execution_count": 40,
      "metadata": {
        "id": "8HnNxp9mBeyD",
        "colab": {
          "base_uri": "https://localhost:8080/"
        },
        "outputId": "517a681a-3cc5-427e-c6ce-ec7e1f07a079"
      },
      "outputs": [
        {
          "output_type": "stream",
          "name": "stdout",
          "text": [
            "1271.9972711497849\n"
          ]
        }
      ],
      "source": [
        "from functools import reduce\n",
        "from math import sqrt\n",
        "\n",
        "desvio_padrao_valor_emprestimos = sqrt(float(reduce(lambda x, y: x + y, list(map(lambda x: (x - media_valor_emprestimos) ** 2, valor_emprestimos_lista_filtrada)))) / (len(valor_emprestimos_lista_filtrada) - 1))\n",
        "print(desvio_padrao_valor_emprestimos)"
      ]
    },
    {
      "cell_type": "code",
      "execution_count": 41,
      "metadata": {
        "id": "3dDC-KRYBeyE",
        "colab": {
          "base_uri": "https://localhost:8080/"
        },
        "outputId": "80239daf-e566-4b31-87b0-ea665a615f4d"
      },
      "outputs": [
        {
          "output_type": "stream",
          "name": "stdout",
          "text": [
            "1271.9972711497849\n"
          ]
        }
      ],
      "source": [
        "print(desvio_padrao_valor_emprestimos) # 1271.997271149785"
      ]
    },
    {
      "cell_type": "markdown",
      "metadata": {
        "id": "ai2mZYnG_b_s"
      },
      "source": [
        "---"
      ]
    }
  ],
  "metadata": {
    "colab": {
      "provenance": [],
      "toc_visible": true
    },
    "kernelspec": {
      "display_name": "Python 3 (ipykernel)",
      "language": "python",
      "name": "python3"
    },
    "language_info": {
      "codemirror_mode": {
        "name": "ipython",
        "version": 3
      },
      "file_extension": ".py",
      "mimetype": "text/x-python",
      "name": "python",
      "nbconvert_exporter": "python",
      "pygments_lexer": "ipython3",
      "version": "3.9.7"
    }
  },
  "nbformat": 4,
  "nbformat_minor": 0
}