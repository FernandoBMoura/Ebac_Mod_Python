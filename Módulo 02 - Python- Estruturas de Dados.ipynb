{
  "nbformat": 4,
  "nbformat_minor": 0,
  "metadata": {
    "colab": {
      "provenance": [],
      "toc_visible": true
    },
    "kernelspec": {
      "name": "python3",
      "display_name": "Python 3"
    }
  },
  "cells": [
    {
      "cell_type": "markdown",
      "metadata": {
        "id": "KJqp9AANOCtf"
      },
      "source": [
        "<img src=\"https://raw.githubusercontent.com/andre-marcos-perez/ebac-course-utils/main/media/logo/newebac_logo_black_half.png\" alt=\"ebac-logo\">\n",
        "\n",
        "---\n",
        "\n",
        "# **Módulo** | Python: Estruturas de Dados\n",
        "Caderno de **Exercícios**<br>\n",
        "Professor [André Perez](https://www.linkedin.com/in/andremarcosperez/)\n",
        "\n",
        "---"
      ]
    },
    {
      "cell_type": "markdown",
      "metadata": {
        "id": "d9jDtUbDOE1-"
      },
      "source": [
        "# **Tópicos**\n",
        "\n",
        "<ol type=\"1\">\n",
        "  <li>Listas;</li>\n",
        "  <li>Conjuntos;</li>\n",
        "  <li>Dicionários.</li>\n",
        "</ol>"
      ]
    },
    {
      "cell_type": "markdown",
      "metadata": {
        "id": "SmoHgt-lwkpD"
      },
      "source": [
        "---"
      ]
    },
    {
      "cell_type": "markdown",
      "metadata": {
        "id": "GABI6OW8OfQ2"
      },
      "source": [
        "# **Exercícios**"
      ]
    },
    {
      "cell_type": "markdown",
      "metadata": {
        "id": "muD1vxozykSC"
      },
      "source": [
        "## 1\\. Listas"
      ]
    },
    {
      "cell_type": "markdown",
      "metadata": {
        "id": "ahrFfCuBxJKs"
      },
      "source": [
        "Criei uma lista chamada `filmes` com o nome dos 10 primeiros filmes mais bem avaliados no site no [IMDB](https://www.imdb.com/chart/top/). Imprima o resultado."
      ]
    },
    {
      "cell_type": "code",
      "metadata": {
        "id": "OgL6Hv3bzOHI"
      },
      "source": [
        "filmes = ['1 Um Sonho de Liberdade' , '2 O Poderoso Chefão' , '3 Batman: O Cavaleiro das Trevas' , '4 O Poderoso Chefão II' , '5 12 Homens e uma Sentença' , '6 A Lista de Schindler' , '7 O Senhor dos Anéis: O Retorno do Rei' , '8 Pulp Fiction - Tempo de Violência' , '9 O Senhor dos Anéis: A Sociedade do Anel' , '10 Três Homens em Conflito']"
      ],
      "execution_count": null,
      "outputs": []
    },
    {
      "cell_type": "code",
      "source": [
        "print(filmes)"
      ],
      "metadata": {
        "colab": {
          "base_uri": "https://localhost:8080/"
        },
        "id": "ZzNNKWdT1Wpj",
        "outputId": "99512e3a-16e6-43db-8057-5afe221ab349"
      },
      "execution_count": null,
      "outputs": [
        {
          "output_type": "stream",
          "name": "stdout",
          "text": [
            "['1 Um Sonho de Liberdade', '2 O Poderoso Chefão', '3 Batman: O Cavaleiro das Trevas', '4 O Poderoso Chefão II', '5 12 Homens e uma Sentença', '6 A Lista de Schindler', '7 O Senhor dos Anéis: O Retorno do Rei', '8 Pulp Fiction - Tempo de Violência', '9 O Senhor dos Anéis: A Sociedade do Anel', '10 Três Homens em Conflito']\n"
          ]
        }
      ]
    },
    {
      "cell_type": "markdown",
      "metadata": {
        "id": "KI9zQRT2xa7m"
      },
      "source": [
        "*Simule* a movimentação do *ranking*. Utilize os métodos `insert` e `pop` para trocar a posição do primeiro e do segundo filme da lista. Imprima o resultado.\n",
        "\n"
      ]
    },
    {
      "cell_type": "code",
      "metadata": {
        "id": "zX3mA3_GzrXH",
        "colab": {
          "base_uri": "https://localhost:8080/"
        },
        "outputId": "153f4568-833b-4187-9aab-9d75a117f5c6"
      },
      "source": [
        "filmes = ['Um Sonho de Liberdade' , 'O Poderoso Chefão' , 'Batman: O Cavaleiro das Trevas' , 'O Poderoso Chefão II' , '5 12 Homens e uma Sentença' , '6 A Lista de Schindler' , '7 O Senhor dos Anéis: O Retorno do Rei' , '8 Pulp Fiction - Tempo de Violência' , '9 O Senhor dos Anéis: A Sociedade do Anel' , '10 Três Homens em Conflito']\n",
        "filmes.insert(0, 'O Poderoso Chefão')\n",
        "print(filmes)\n"
      ],
      "execution_count": null,
      "outputs": [
        {
          "output_type": "stream",
          "name": "stdout",
          "text": [
            "['O Poderoso Chefão', 'Um Sonho de Liberdade', 'Batman: O Cavaleiro das Trevas', 'O Poderoso Chefão II', '5 12 Homens e uma Sentença', '6 A Lista de Schindler', '7 O Senhor dos Anéis: O Retorno do Rei', '8 Pulp Fiction - Tempo de Violência', '9 O Senhor dos Anéis: A Sociedade do Anel', '10 Três Homens em Conflito']\n"
          ]
        }
      ]
    },
    {
      "cell_type": "code",
      "source": [
        "filmes = ['O Poderoso Chefão', 'Um Sonho de Liberdade', 'O Poderoso Chefão', 'Batman: O Cavaleiro das Trevas', 'O Poderoso Chefão II', '5 12 Homens e uma Sentença', '6 A Lista de Schindler', '7 O Senhor dos Anéis: O Retorno do Rei', '8 Pulp Fiction - Tempo de Violência', '9 O Senhor dos Anéis: A Sociedade do Anel', '10 Três Homens em Conflito']\n",
        "filmes.pop(2)\n",
        "print(filmes)"
      ],
      "metadata": {
        "colab": {
          "base_uri": "https://localhost:8080/"
        },
        "id": "kEtJYVyG6PJw",
        "outputId": "f156712a-7d54-44f4-d2ec-6c9fa85b5fb5"
      },
      "execution_count": null,
      "outputs": [
        {
          "output_type": "stream",
          "name": "stdout",
          "text": [
            "['O Poderoso Chefão', 'Um Sonho de Liberdade', 'Batman: O Cavaleiro das Trevas', 'O Poderoso Chefão II', '5 12 Homens e uma Sentença', '6 A Lista de Schindler', '7 O Senhor dos Anéis: O Retorno do Rei', '8 Pulp Fiction - Tempo de Violência', '9 O Senhor dos Anéis: A Sociedade do Anel', '10 Três Homens em Conflito']\n"
          ]
        }
      ]
    },
    {
      "cell_type": "markdown",
      "metadata": {
        "id": "zMN1Q3jdwoJm"
      },
      "source": [
        "---"
      ]
    },
    {
      "cell_type": "markdown",
      "metadata": {
        "id": "lxa5L6uF0ZJE"
      },
      "source": [
        "## 2\\. Conjuntos"
      ]
    },
    {
      "cell_type": "markdown",
      "metadata": {
        "id": "9JahS2Kj0d5u"
      },
      "source": [
        "Aconteceu um erro no seu *ranking*. Simule a duplicação dos três últimos filmes da lista. Imprima o resultado."
      ]
    },
    {
      "cell_type": "code",
      "metadata": {
        "id": "BnjnLBNC6PGe",
        "colab": {
          "base_uri": "https://localhost:8080/"
        },
        "outputId": "e359acaf-49ed-4f34-dd81-177c1d67b762"
      },
      "source": [
        "filmes = ['1 Um Sonho de Liberdade' , '2 O Poderoso Chefão' , '3 Batman: O Cavaleiro das Trevas' , '4 O Poderoso Chefão II' , '5 12 Homens e uma Sentença' , '6 A Lista de Schindler' , '7 O Senhor dos Anéis: O Retorno do Rei' , '10 Três Homens em Conflito' , '10 Três Homens em Conflito' , '10 Três Homens em Conflito']\n",
        "print(filmes)"
      ],
      "execution_count": null,
      "outputs": [
        {
          "output_type": "stream",
          "name": "stdout",
          "text": [
            "['1 Um Sonho de Liberdade', '2 O Poderoso Chefão', '3 Batman: O Cavaleiro das Trevas', '4 O Poderoso Chefão II', '5 12 Homens e uma Sentença', '6 A Lista de Schindler', '7 O Senhor dos Anéis: O Retorno do Rei', '10 Três Homens em Conflito', '10 Três Homens em Conflito', '10 Três Homens em Conflito']\n"
          ]
        }
      ]
    },
    {
      "cell_type": "markdown",
      "metadata": {
        "id": "suxTfCJB6ZiX"
      },
      "source": [
        "Utiliza a conversão `set` e `list` para remover os valores duplicados. Imprima o resultado."
      ]
    },
    {
      "cell_type": "code",
      "metadata": {
        "id": "ZvUGN-0n6joM",
        "colab": {
          "base_uri": "https://localhost:8080/"
        },
        "outputId": "852647b4-1756-4e2a-8731-b5c0cbf28b08"
      },
      "source": [
        "filmes = ['1 Um Sonho de Liberdade' , '2 O Poderoso Chefão' , '3 Batman: O Cavaleiro das Trevas' , '4 O Poderoso Chefão II' , '5 12 Homens e uma Sentença' , '6 A Lista de Schindler' , '7 O Senhor dos Anéis: O Retorno do Rei' , '10 Três Homens em Conflito' , '10 Três Homens em Conflito' , '10 Três Homens em Conflito']\n",
        "print(set(list(filmes)))\n",
        "print(type(set(list(filmes))))"
      ],
      "execution_count": null,
      "outputs": [
        {
          "output_type": "stream",
          "name": "stdout",
          "text": [
            "{'5 12 Homens e uma Sentença', '3 Batman: O Cavaleiro das Trevas', '10 Três Homens em Conflito', '1 Um Sonho de Liberdade', '7 O Senhor dos Anéis: O Retorno do Rei', '2 O Poderoso Chefão', '6 A Lista de Schindler', '4 O Poderoso Chefão II'}\n",
            "<class 'set'>\n"
          ]
        }
      ]
    },
    {
      "cell_type": "markdown",
      "metadata": {
        "id": "ShkK35eQ6pAM"
      },
      "source": [
        "---"
      ]
    },
    {
      "cell_type": "markdown",
      "metadata": {
        "id": "EL_FzmxL6rTv"
      },
      "source": [
        "## 3\\. Dicionários"
      ]
    },
    {
      "cell_type": "markdown",
      "metadata": {
        "id": "i8l0gFqRCpfT"
      },
      "source": [
        "Repita os exercícios da parte 1 (listas). Os elementos da lista `filmes` devem ser dicionários no seguinte formato: `{'nome': <nome-do-filme>, 'ano': <ano do filme>, 'sinopse': <sinopse do filme>}`."
      ]
    },
    {
      "cell_type": "code",
      "source": [
        "filmes = [{'nome': 'Um Sonho de Liberdade', 'ano': '1994', 'sinopse': 'Dois homens presos se reúnem ao longo de vários anos, encontrando consolo e eventual redenção através de atos de decência comum.'},\n",
        "          {'nome': 'O Poderoso Chefão', 'ano': '1972', 'sinopse': 'O patriarca idoso de uma dinastia do crime organizado transfere o controle de seu império clandestino para seu filho relutante.'},\n",
        "          {'nome': 'Batman: O Cavaleiro das Trevas', 'ano': '2008', 'sinopse': 'Agora com a ajuda do tenente Jim Gordon e do promotor público Harvey Dent, Batman tem tudo para banir o crime de Gotham City de uma vez por todas. Mas em breve, os três serão vítimas do Coringa, que pretende lançar Gotham em uma anarquia.'},\n",
        "          {'nome': 'O Poderoso Chefão II', 'ano': '1974', 'sinopse': 'Em 1950, Michael Corleone, agora à frente da família, tenta expandir o negócio do crime a Las Vegas, Los Angeles e Cuba. Paralelamente, é revelada a história de Vito Corleone, e de como saiu da Sicília e chegou a Nova Iorque.'},\n",
        "          {'nome': '12 Homens e uma Sentença', 'ano': '1957', 'sinopese': 'O julgamento de um assassinato em Nova Iorque é frustrado por um único membro, cujo ceticismo força o júri a considerar cuidadosamente as evidências antes de dar o veredito.'},\n",
        "          {'nome': 'A Lista de Schindler', 'ano': '1993', 'sinopese': 'Na Polônia ocupada pelos alemães durante a Segunda Guerra Mundial, o industrial Oskar Schindler começa a ser preocupar com seus trabalhadores judeus depois de testemunhar sua perseguição pelos nazistas.'},\n",
        "          {'nome': 'O Senhor dos Anéis: O Retorno do Rei', 'ano': '2003', 'sinopese': 'Gandalf e Aragorn lideram o Mundo dos Homens contra o exército de Sauron para desviar o olhar de Frodo e Sam quando eles se aproximam á Montanha da Perdição com o Um Anel.'},\n",
        "          {'nome': 'Pulp Fiction - Tempo de Violência', 'ano': '1994', 'sinopese': 'As vidas de dois assassinos da máfia, um boxeador, um gângster e sua esposa, e um par de bandidos se entrelaçam em quatro histórias de violência e redenção.'},\n",
        "          {'nome': 'O Senhor dos Anéis: A Sociedade do Anel', 'ano': '2001', 'sinopese': 'Um manso hobbit do Condado e oito companheiros partem em uma jornada para destruir o poderoso Um Anel e salvar a Terra-média das Trevas.'},\n",
        "          {'nome': 'Três Homens em Conflito', 'ano': '1966', 'sinopese': 'Um impostor se junta com dois homens para encontrar fortuna num remoto cemitério.'}]\n",
        "\n",
        "print(filmes)\n",
        "print(type(filmes))\n"
      ],
      "metadata": {
        "id": "hqLmez8DRvP4",
        "colab": {
          "base_uri": "https://localhost:8080/"
        },
        "outputId": "422a1dba-7c15-43f5-8aa4-b20717b131c2"
      },
      "execution_count": null,
      "outputs": [
        {
          "output_type": "stream",
          "name": "stdout",
          "text": [
            "[{'nome': 'Um Sonho de Liberdade', 'ano': '1994', 'sinopse': 'Dois homens presos se reúnem ao longo de vários anos, encontrando consolo e eventual redenção através de atos de decência comum.'}, {'nome': 'O Poderoso Chefão', 'ano': '1972', 'sinopse': 'O patriarca idoso de uma dinastia do crime organizado transfere o controle de seu império clandestino para seu filho relutante.'}, {'nome': 'Batman: O Cavaleiro das Trevas', 'ano': '2008', 'sinopse': 'Agora com a ajuda do tenente Jim Gordon e do promotor público Harvey Dent, Batman tem tudo para banir o crime de Gotham City de uma vez por todas. Mas em breve, os três serão vítimas do Coringa, que pretende lançar Gotham em uma anarquia.'}, {'nome': 'O Poderoso Chefão II', 'ano': '1974', 'sinopse': 'Em 1950, Michael Corleone, agora à frente da família, tenta expandir o negócio do crime a Las Vegas, Los Angeles e Cuba. Paralelamente, é revelada a história de Vito Corleone, e de como saiu da Sicília e chegou a Nova Iorque.'}, {'nome': '12 Homens e uma Sentença', 'ano': '1957', 'sinopese': 'O julgamento de um assassinato em Nova Iorque é frustrado por um único membro, cujo ceticismo força o júri a considerar cuidadosamente as evidências antes de dar o veredito.'}, {'nome': 'A Lista de Schindler', 'ano': '1993', 'sinopese': 'Na Polônia ocupada pelos alemães durante a Segunda Guerra Mundial, o industrial Oskar Schindler começa a ser preocupar com seus trabalhadores judeus depois de testemunhar sua perseguição pelos nazistas.'}, {'nome': 'O Senhor dos Anéis: O Retorno do Rei', 'ano': '2003', 'sinopese': 'Gandalf e Aragorn lideram o Mundo dos Homens contra o exército de Sauron para desviar o olhar de Frodo e Sam quando eles se aproximam á Montanha da Perdição com o Um Anel.'}, {'nome': 'Pulp Fiction - Tempo de Violência', 'ano': '1994', 'sinopese': 'As vidas de dois assassinos da máfia, um boxeador, um gângster e sua esposa, e um par de bandidos se entrelaçam em quatro histórias de violência e redenção.'}, {'nome': 'O Senhor dos Anéis: A Sociedade do Anel', 'ano': '2001', 'sinopese': 'Um manso hobbit do Condado e oito companheiros partem em uma jornada para destruir o poderoso Um Anel e salvar a Terra-média das Trevas.'}, {'nome': 'Três Homens em Conflito', 'ano': '1966', 'sinopese': 'Um impostor se junta com dois homens para encontrar fortuna num remoto\\xa0cemitério.'}]\n",
            "<class 'list'>\n"
          ]
        }
      ]
    }
  ]
}